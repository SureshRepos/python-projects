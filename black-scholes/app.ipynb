{
 "cells": [
  {
   "cell_type": "code",
   "execution_count": 2,
   "metadata": {},
   "outputs": [],
   "source": [
    "import math\n",
    "from scipy.stats import norm\n"
   ]
  },
  {
   "cell_type": "code",
   "execution_count": 5,
   "metadata": {},
   "outputs": [],
   "source": [
    "# Define the variables\n",
    "s = 42 # Underlying Price\n",
    "k = 40 # Strike Price\n",
    "t = 0.5 # Time to Expiration\n",
    "r = 0.1 # Risk-Free rate\n",
    "vol = 0.2 # Volatility"
   ]
  },
  {
   "cell_type": "code",
   "execution_count": 6,
   "metadata": {},
   "outputs": [],
   "source": [
    "d1 = (math.log(s/k) + (r + 0.5 * vol ** 2) * t ) / (vol * math.sqrt(t))"
   ]
  },
  {
   "cell_type": "code",
   "execution_count": 7,
   "metadata": {},
   "outputs": [],
   "source": [
    "d2 = d1 - (vol * math.sqrt(t))"
   ]
  },
  {
   "cell_type": "code",
   "execution_count": 8,
   "metadata": {},
   "outputs": [],
   "source": [
    "c = s * norm.cdf(d1) - k * math.exp(-r * t) * norm.cdf(d2)"
   ]
  },
  {
   "cell_type": "code",
   "execution_count": 10,
   "metadata": {},
   "outputs": [],
   "source": [
    "p = k * math.exp(-r * t) * norm.cdf(-d2) - s * norm.cdf(-d1)"
   ]
  },
  {
   "cell_type": "code",
   "execution_count": 11,
   "metadata": {},
   "outputs": [
    {
     "name": "stdout",
     "output_type": "stream",
     "text": [
      "The value of d1 is: 0.7693\n",
      "The value of d2 is: 0.6278\n",
      "The price of the 'call option' is: 4.76\n",
      "The price of the 'put option' is: 0.81\n"
     ]
    }
   ],
   "source": [
    "print(f\"The value of d1 is: {round(d1, 4)}\")\n",
    "print(f\"The value of d2 is: {round(d2, 4)}\")\n",
    "print(f\"The price of the 'call option' is: {round(c, 2)}\")\n",
    "print(f\"The price of the 'put option' is: {round(p, 2)}\")"
   ]
  }
 ],
 "metadata": {
  "kernelspec": {
   "display_name": "Python 3",
   "language": "python",
   "name": "python3"
  },
  "language_info": {
   "codemirror_mode": {
    "name": "ipython",
    "version": 3
   },
   "file_extension": ".py",
   "mimetype": "text/x-python",
   "name": "python",
   "nbconvert_exporter": "python",
   "pygments_lexer": "ipython3",
   "version": "3.10.12"
  }
 },
 "nbformat": 4,
 "nbformat_minor": 2
}
